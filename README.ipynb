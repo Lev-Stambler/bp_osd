{
 "cells": [
  {
   "cell_type": "markdown",
   "source": [
    "# BP+OSD: A decoder for quantum LDPC codes \n",
    "A C library implementing belief propagation with ordered statistics post-processing for decoding sparse quantum LDPC codes as described in [arXiv:2005.07016](https://arxiv.org/abs/2005.07016).\n",
    "\n",
    "## Installation from PyPi (recommended method)\n",
    "\n",
    "Installtion from [PyPi](https://pypi.org/project/ldpc/) requires Python>=3.6.\n",
    "To install via pip, run:\n",
    "\n",
    "```\n",
    "pip install ldpc\n",
    "```\n",
    "\n",
    "## Installation (from source)\n",
    "\n",
    "Installation from source requires Python>=3.6 and a local C compiler (eg. 'gcc' in Linux or 'clang' in Windows). The LDPC package can then be installed by running:\n",
    "\n",
    "```\n",
    "git clone https://github.com/quantumgizmos/ldpc.git\n",
    "cd ldpc\n",
    "pip install -e ldpc\n",
    "```\n",
    "\n",
    "## Dependencies\n",
    "This package makes use of the `mod2sparse` data structure from Radford Neal's [Software for Low Density Parity Check Codes](https://www.cs.toronto.edu/~radford/ftp/LDPC-2012-02-11/index.html) C package.\n",
    "\n"
   ],
   "metadata": {}
  },
  {
   "cell_type": "markdown",
   "source": [
    "# Basic usage\n",
    "\n",
    "## Constructing CSS codes\n",
    "\n",
    "The `bposd.css.css_code` class can be used to create a CSS code from two classical codes. As an example, we can create a [[7,4,3]] Steane code from the classical Hamming code"
   ],
   "metadata": {}
  },
  {
   "cell_type": "code",
   "execution_count": 11,
   "source": [
    "from ldpc.codes import hamming_code\n",
    "from bposd.css import css_code\n",
    "h=hamming_code(3) #Hamming code parity check matrix\n",
    "steane_code=css_code(hx=h,hz=h) #create Steane code where both hx and hz are Hamming codes\n",
    "print(\"Hx\")\n",
    "print(steane_code.hx)\n",
    "print(\"Hz\")\n",
    "print(steane_code.hz)"
   ],
   "outputs": [
    {
     "output_type": "stream",
     "name": "stdout",
     "text": [
      "Hx\n",
      "[[0 0 0 1 1 1 1]\n",
      " [0 1 1 0 0 1 1]\n",
      " [1 0 1 0 1 0 1]]\n",
      "Hz\n",
      "[[0 0 0 1 1 1 1]\n",
      " [0 1 1 0 0 1 1]\n",
      " [1 0 1 0 1 0 1]]\n"
     ]
    }
   ],
   "metadata": {}
  },
  {
   "cell_type": "markdown",
   "source": [
    "The `bposd.css.css_code` class automatically computes the logical operators of the code."
   ],
   "metadata": {}
  },
  {
   "cell_type": "code",
   "execution_count": 12,
   "source": [
    "print(\"Lx Logical\")\n",
    "print(steane_code.lx)\n",
    "print(\"Lz Logical\")\n",
    "print(steane_code.lz)"
   ],
   "outputs": [
    {
     "output_type": "stream",
     "name": "stdout",
     "text": [
      "Lx Logical\n",
      "[[1 1 1 0 0 0 0]]\n",
      "Lz Logical\n",
      "[[1 1 1 0 0 0 0]]\n"
     ]
    }
   ],
   "metadata": {}
  },
  {
   "cell_type": "markdown",
   "source": [
    "## BP+OSD Decoding\n",
    "\n",
    "BP+OSD decoding is useful for codes that do not perform well under standard-BP. To use the BP+OSD decoder, we first call the `bposd.bposd_decoder` class:"
   ],
   "metadata": {}
  },
  {
   "cell_type": "code",
   "execution_count": 18,
   "source": [
    "import numpy as np\n",
    "from bposd import bposd_decoder\n",
    "\n",
    "bpd=bposd_decoder(\n",
    "    steane_code.hx,#the parity check matrix\n",
    "    error_rate=0.1,\n",
    "    max_iter=steane_code.N #the maximum number of iterations for BP)\n",
    ")\n",
    "\n",
    "for i in range(steane_code.N):\n",
    "    error=np.zeros(steane_code.N).astype(int)\n",
    "    error[i]=1\n",
    "    syndrome=steane_code.hz@error%2\n",
    "    bpd.decode(syndrome)\n",
    "    print(bpd.osdw_decoding)"
   ],
   "outputs": [
    {
     "output_type": "stream",
     "name": "stdout",
     "text": [
      "[0 0 0 0 0 0 0]\n",
      "[0 0 0 0 0 0 0]\n",
      "[0 0 0 0 0 0 0]\n",
      "[0 0 0 0 0 0 0]\n",
      "[0 0 0 0 0 0 0]\n",
      "[0 0 0 0 0 0 0]\n",
      "[0 0 0 0 0 0 0]\n"
     ]
    }
   ],
   "metadata": {}
  },
  {
   "cell_type": "code",
   "execution_count": 5,
   "source": [],
   "outputs": [],
   "metadata": {}
  },
  {
   "cell_type": "code",
   "execution_count": null,
   "source": [],
   "outputs": [],
   "metadata": {}
  }
 ],
 "metadata": {
  "kernelspec": {
   "name": "python3",
   "display_name": "Python 3.7.6 64-bit ('base': conda)"
  },
  "language_info": {
   "name": "python",
   "version": "3.7.6",
   "mimetype": "text/x-python",
   "codemirror_mode": {
    "name": "ipython",
    "version": 3
   },
   "pygments_lexer": "ipython3",
   "nbconvert_exporter": "python",
   "file_extension": ".py"
  },
  "interpreter": {
   "hash": "63d7f220ac6afabe4522d20bb97583622f709e1cd06390e42805f8d10b2e7386"
  }
 },
 "nbformat": 4,
 "nbformat_minor": 4
}