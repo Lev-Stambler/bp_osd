{
 "cells": [
  {
   "cell_type": "markdown",
   "metadata": {},
   "source": [
    "# BP+OSD: A decoder for quantum LDPC codes \n",
    "A Python library implementing belief propagation with ordered statistics post-processing for decoding sparse quantum LDPC codes as described in [arXiv:2005.07016](https://arxiv.org/abs/2005.07016).\n",
    "\n",
    "## Installation from PyPi (recommended method)\n",
    "\n",
    "Installtion from [PyPi](https://pypi.org/project/bposd/) requires Python>=3.6.\n",
    "To install via pip, run:\n",
    "\n",
    "```\n",
    "pip install -U bposd\n",
    "```\n",
    "\n",
    "## Installation (from source)\n",
    "\n",
    "Installation from source requires Python>=3.6 and a local C compiler (eg. 'gcc' in Linux or 'clang' in Windows). The LDPC package can then be installed by running:\n",
    "\n",
    "```\n",
    "git clone https://github.com/quantumgizmos/bposd.git\n",
    "cd bposd\n",
    "pip install -Ue bposd\n",
    "```\n",
    "\n",
    "## Dependencies\n",
    "This package buids upon the [LDPC](https://pypi.org/project/ldpc/) python package."
   ]
  },
  {
   "cell_type": "markdown",
   "metadata": {},
   "source": [
    "# Basic usage\n",
    "\n",
    "## Constructing CSS codes\n",
    "\n",
    "The `bposd.css.css_code` class can be used to create a CSS code from two classical codes. As an example, we can create a [[7,4,3]] Steane code from the classical Hamming code"
   ]
  },
  {
   "cell_type": "code",
   "execution_count": 1,
   "metadata": {},
   "outputs": [
    {
     "name": "stdout",
     "output_type": "stream",
     "text": [
      "Hx\n",
      "[[0 0 0 1 1 1 1]\n",
      " [0 1 1 0 0 1 1]\n",
      " [1 0 1 0 1 0 1]]\n",
      "Hz\n",
      "[[0 0 0 1 1 1 1]\n",
      " [0 1 1 0 0 1 1]\n",
      " [1 0 1 0 1 0 1]]\n"
     ]
    }
   ],
   "source": [
    "from ldpc.codes import hamming_code\n",
    "from bposd.css import css_code\n",
    "h=hamming_code(3) #Hamming code parity check matrix\n",
    "steane_code=css_code(hx=h,hz=h) #create Steane code where both hx and hz are Hamming codes\n",
    "print(\"Hx\")\n",
    "print(steane_code.hx)\n",
    "print(\"Hz\")\n",
    "print(steane_code.hz)"
   ]
  },
  {
   "cell_type": "markdown",
   "metadata": {},
   "source": [
    "The `bposd.css.css_code` class automatically computes the logical operators of the code."
   ]
  },
  {
   "cell_type": "code",
   "execution_count": 2,
   "metadata": {},
   "outputs": [
    {
     "name": "stdout",
     "output_type": "stream",
     "text": [
      "Lx Logical\n",
      "[[1 1 1 0 0 0 0]]\n",
      "Lz Logical\n",
      "[[1 1 1 0 0 0 0]]\n"
     ]
    }
   ],
   "source": [
    "print(\"Lx Logical\")\n",
    "print(steane_code.lx)\n",
    "print(\"Lz Logical\")\n",
    "print(steane_code.lz)"
   ]
  },
  {
   "cell_type": "markdown",
   "metadata": {},
   "source": [
    "Not all combinations of the `hx` and `hz` matrices will produce a valid CSS code. Use the `bposd.css.css_code.test` function to check whether the code is valid. For example, we can easily check that the Steane code passes all the CSS code tests:"
   ]
  },
  {
   "cell_type": "code",
   "execution_count": 3,
   "metadata": {},
   "outputs": [
    {
     "name": "stdout",
     "output_type": "stream",
     "text": [
      "<Unnamed CSS code>, (3,4)-[[7,1,nan]]\n",
      " -Block dimensions: Pass\n",
      " -PCMs commute hz@hx.T==0: Pass\n",
      " -PCMs commute hx@hz.T==0: Pass\n",
      " -lx \\in ker{hz} AND lz \\in ker{hx}: Pass\n",
      " -lx and lz anticommute: Pass\n",
      " -<Unnamed CSS code> is a valid CSS code w/ params (3,4)-[[7,1,nan]]\n"
     ]
    },
    {
     "data": {
      "text/plain": [
       "True"
      ]
     },
     "execution_count": 3,
     "metadata": {},
     "output_type": "execute_result"
    }
   ],
   "source": [
    "steane_code.test()"
   ]
  },
  {
   "cell_type": "markdown",
   "metadata": {},
   "source": [
    "As an example of a code that isn't valid, consider the case when `hx` and `hz` are repetition codes:"
   ]
  },
  {
   "cell_type": "code",
   "execution_count": 4,
   "metadata": {},
   "outputs": [
    {
     "name": "stdout",
     "output_type": "stream",
     "text": [
      "<Unnamed CSS code>, (2,2)-[[7,-5,nan]]\n",
      " -Block dimensions incorrect\n",
      " -PCMs commute hz@hx.T==0: Fail\n",
      " -PCMs commute hx@hz.T==0: Fail\n",
      " -lx \\in ker{hz} AND lz \\in ker{hx}: Pass\n",
      " -lx and lz anitcommute: Fail\n"
     ]
    },
    {
     "data": {
      "text/plain": [
       "False"
      ]
     },
     "execution_count": 4,
     "metadata": {},
     "output_type": "execute_result"
    }
   ],
   "source": [
    "from ldpc.codes import rep_code\n",
    "\n",
    "hx=hz=rep_code(7)\n",
    "qcode=css_code(hx,hz)\n",
    "qcode.test()"
   ]
  },
  {
   "cell_type": "markdown",
   "metadata": {},
   "source": [
    "## Hypergraph product codes\n",
    "\n",
    "The hypergraph product can be used to construct a valid CSS code from any pair of classical seed codes. To use the the hypergraph product, call the `bposd.hgp.hgp` function. Below is an example of how the distance-3 surface code can be constructed by taking the hypergraph product of two distance-3 repetition codes."
   ]
  },
  {
   "cell_type": "code",
   "execution_count": 5,
   "metadata": {},
   "outputs": [
    {
     "name": "stdout",
     "output_type": "stream",
     "text": [
      "<Unnamed CSS code>, (2,4)-[[13,1,3]]\n",
      " -Block dimensions: Pass\n",
      " -PCMs commute hz@hx.T==0: Pass\n",
      " -PCMs commute hx@hz.T==0: Pass\n",
      " -lx \\in ker{hz} AND lz \\in ker{hx}: Pass\n",
      " -lx and lz anticommute: Pass\n",
      " -<Unnamed CSS code> is a valid CSS code w/ params (2,4)-[[13,1,3]]\n"
     ]
    },
    {
     "data": {
      "text/plain": [
       "True"
      ]
     },
     "execution_count": 5,
     "metadata": {},
     "output_type": "execute_result"
    }
   ],
   "source": [
    "from ldpc.codes import rep_code\n",
    "from bposd.hgp import hgp\n",
    "h=rep_code(3)\n",
    "surface_code=hgp(h1=h,h2=h,compute_distance=True) #nb. set compute_distance=False for larger codes\n",
    "surface_code.test()"
   ]
  },
  {
   "cell_type": "markdown",
   "metadata": {},
   "source": [
    "## BP+OSD Decoding\n",
    "\n",
    "BP+OSD decoding is useful for codes that do not perform well under standard-BP. To use the BP+OSD decoder, we first call the `bposd.bposd_decoder` class:"
   ]
  },
  {
   "cell_type": "code",
   "execution_count": 6,
   "metadata": {},
   "outputs": [],
   "source": [
    "import numpy as np\n",
    "from bposd import bposd_decoder\n",
    "\n",
    "bpd=bposd_decoder(\n",
    "    surface_code.hz,#the parity check matrix\n",
    "    error_rate=0.05,\n",
    "    channel_probs=[None], #assign error_rate to each qubit. This will override \"error_rate\" input variable\n",
    "    max_iter=surface_code.N, #the maximum number of iterations for BP)\n",
    "    bp_method=\"ms\",\n",
    "    ms_scaling_factor=0, #min sum scaling factor. If set to zero the variable scaling factor method is used\n",
    "    osd_method=\"osd_cs\", #the OSD method. Choose from:  1) \"osd_e\", \"osd_cs\", \"osd0\"\n",
    "    osd_order=7 #the osd search depth\n",
    "    )"
   ]
  },
  {
   "cell_type": "markdown",
   "metadata": {},
   "source": [
    "We can then decode by passing a syndrome to the `bposd.bposd_decoder.decode` method:"
   ]
  },
  {
   "cell_type": "code",
   "execution_count": 7,
   "metadata": {},
   "outputs": [
    {
     "name": "stdout",
     "output_type": "stream",
     "text": [
      "Error\n",
      "[0 0 0 0 0 1 0 0 0 0 0 0 1]\n",
      "BP+OSD Decoding\n",
      "[0 0 0 0 0 0 0 0 1 0 0 0 0]\n",
      "Logical Error: No\n",
      "\n"
     ]
    }
   ],
   "source": [
    "error=np.zeros(surface_code.N).astype(int)\n",
    "error[[5,12]]=1\n",
    "syndrome=surface_code.hz@error %2\n",
    "bpd.decode(syndrome)\n",
    "\n",
    "print(\"Error\")\n",
    "print(error)\n",
    "print(\"BP+OSD Decoding\")\n",
    "print(bpd.osdw_decoding)\n",
    "#Decoding is successful if the residual error commutes with the logical operators\n",
    "residual_error=(bpd.osdw_decoding+error) %2\n",
    "a=(surface_code.lz@residual_error%2).any()\n",
    "if a: a=\"Yes\"\n",
    "else: a=\"No\"\n",
    "print(f\"Logical Error: {a}\\n\")\n"
   ]
  }
 ],
 "metadata": {
  "interpreter": {
   "hash": "e6142264746c19ed83c77205cabd673f219a6c42e5018feead8b479e250bcad8"
  },
  "kernelspec": {
   "display_name": "Python 3.7.11 64-bit ('ldpc': conda)",
   "name": "python3"
  },
  "language_info": {
   "codemirror_mode": {
    "name": "ipython",
    "version": 3
   },
   "file_extension": ".py",
   "mimetype": "text/x-python",
   "name": "python",
   "nbconvert_exporter": "python",
   "pygments_lexer": "ipython3",
   "version": "3.7.11"
  }
 },
 "nbformat": 4,
 "nbformat_minor": 4
}
