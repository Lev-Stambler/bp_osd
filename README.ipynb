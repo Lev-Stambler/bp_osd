{
 "cells": [
  {
   "cell_type": "markdown",
   "source": [
    "# BP+OSD: A decoder for quantum LDPC codes \n",
    "A C library implementing belief propagation with ordered statistics post-processing for decoding sparse quantum LDPC codes as described in [arXiv:2005.07016](https://arxiv.org/abs/2005.07016).\n",
    "\n",
    "## Installation from PyPi (recommended method)\n",
    "\n",
    "Installtion from [PyPi](https://pypi.org/project/bposd/) requires Python>=3.6.\n",
    "To install via pip, run:\n",
    "\n",
    "```\n",
    "pip install bposd\n",
    "```\n",
    "\n",
    "## Installation (from source)\n",
    "\n",
    "Installation from source requires Python>=3.6 and a local C compiler (eg. 'gcc' in Linux or 'clang' in Windows). The LDPC package can then be installed by running:\n",
    "\n",
    "```\n",
    "git clone https://github.com/quantumgizmos/bposd.git\n",
    "cd bposd\n",
    "pip install -e bposd\n",
    "```\n",
    "\n",
    "## Dependencies\n",
    "This package makes use of the `mod2sparse` data structure from Radford Neal's [Software for Low Density Parity Check Codes](https://www.cs.toronto.edu/~radford/ftp/LDPC-2012-02-11/index.html) C package.\n",
    "\n"
   ],
   "metadata": {}
  },
  {
   "cell_type": "markdown",
   "source": [
    "# Basic usage\n",
    "\n",
    "## Constructing CSS codes\n",
    "\n",
    "The `bposd.css.css_code` class can be used to create a CSS code from two classical codes. As an example, we can create a [[7,4,3]] Steane code from the classical Hamming code"
   ],
   "metadata": {}
  },
  {
   "cell_type": "code",
   "execution_count": 19,
   "source": [
    "from ldpc.codes import hamming_code\n",
    "from bposd.css import css_code\n",
    "h=hamming_code(3) #Hamming code parity check matrix\n",
    "steane_code=css_code(hx=h,hz=h) #create Steane code where both hx and hz are Hamming codes\n",
    "print(\"Hx\")\n",
    "print(steane_code.hx)\n",
    "print(\"Hz\")\n",
    "print(steane_code.hz)"
   ],
   "outputs": [
    {
     "output_type": "stream",
     "name": "stdout",
     "text": [
      "Hx\n",
      "[[0 0 0 1 1 1 1]\n",
      " [0 1 1 0 0 1 1]\n",
      " [1 0 1 0 1 0 1]]\n",
      "Hz\n",
      "[[0 0 0 1 1 1 1]\n",
      " [0 1 1 0 0 1 1]\n",
      " [1 0 1 0 1 0 1]]\n"
     ]
    }
   ],
   "metadata": {}
  },
  {
   "cell_type": "markdown",
   "source": [
    "The `bposd.css.css_code` class automatically computes the logical operators of the code."
   ],
   "metadata": {}
  },
  {
   "cell_type": "code",
   "execution_count": 20,
   "source": [
    "print(\"Lx Logical\")\n",
    "print(steane_code.lx)\n",
    "print(\"Lz Logical\")\n",
    "print(steane_code.lz)"
   ],
   "outputs": [
    {
     "output_type": "stream",
     "name": "stdout",
     "text": [
      "Lx Logical\n",
      "[[1 1 1 0 0 0 0]]\n",
      "Lz Logical\n",
      "[[1 1 1 0 0 0 0]]\n"
     ]
    }
   ],
   "metadata": {}
  },
  {
   "cell_type": "markdown",
   "source": [
    "Not all combinations of the `hx` and `hz` matrices will produce a valid CSS code. Use the `bposd.css.css_code.test` function to check whether the code is valid. For example, we can easily check that the Steane code passes all the CSS code tests:"
   ],
   "metadata": {}
  },
  {
   "cell_type": "code",
   "execution_count": 21,
   "source": [
    "steane_code.test()"
   ],
   "outputs": [
    {
     "output_type": "stream",
     "name": "stdout",
     "text": [
      "<Unnamed CSS code>, (3,4)-[[7,1,nan]]\n",
      " -Block dimensions: Pass\n",
      " -PCMs commute hz@hx.T==0: Pass\n",
      " -PCMs commute hx@hz.T==0: Pass\n",
      " -lx \\in ker{hz} AND lz \\in ker{hx}: Pass\n",
      " -lx and lz anticommute: Pass\n",
      " -<Unnamed CSS code> is a valid CSS code w/ params (3,4)-[[7,1,nan]]\n"
     ]
    },
    {
     "output_type": "execute_result",
     "data": {
      "text/plain": [
       "True"
      ]
     },
     "metadata": {},
     "execution_count": 21
    }
   ],
   "metadata": {}
  },
  {
   "cell_type": "markdown",
   "source": [
    "As an example of a code that isn't valid, consider the case when `hx` and `hz` are repetition codes:"
   ],
   "metadata": {}
  },
  {
   "cell_type": "code",
   "execution_count": 22,
   "source": [
    "from ldpc.codes import rep_code\n",
    "\n",
    "hx=hz=rep_code(7)\n",
    "qcode=css_code(hx,hz)\n",
    "qcode.test()"
   ],
   "outputs": [
    {
     "output_type": "stream",
     "name": "stdout",
     "text": [
      "<Unnamed CSS code>, (2,2)-[[7,-5,nan]]\n",
      " -Block dimensions incorrect\n",
      " -PCMs commute hz@hx.T==0: Fail\n",
      " -PCMs commute hx@hz.T==0: Fail\n",
      " -lx \\in ker{hz} AND lz \\in ker{hx}: Pass\n",
      " -lx and lz anitcommute: Fail\n"
     ]
    },
    {
     "output_type": "execute_result",
     "data": {
      "text/plain": [
       "False"
      ]
     },
     "metadata": {},
     "execution_count": 22
    }
   ],
   "metadata": {}
  },
  {
   "cell_type": "markdown",
   "source": [
    "## Hypergraph product codes\n",
    "\n",
    "The hypergraph product can be used to construct a valid CSS code from any pair of classical seed codes. To use the the hypergraph product, call the `bposd.hgp.hgp` function. Below is an example of how the distance-3 surface code can be constructed by taking the hypergraph product of two distance-3 repetition codes."
   ],
   "metadata": {}
  },
  {
   "cell_type": "code",
   "execution_count": 70,
   "source": [
    "from bposd.hgp import hgp\n",
    "h=rep_code(3)\n",
    "surface_code=hgp(h1=h,h2=h,compute_distance=True) #nb. set compute_distance=False for larger codes\n",
    "surface_code.test()"
   ],
   "outputs": [
    {
     "output_type": "stream",
     "name": "stdout",
     "text": [
      "<Unnamed CSS code>, (2,4)-[[13,1,3]]\n",
      " -Block dimensions: Pass\n",
      " -PCMs commute hz@hx.T==0: Pass\n",
      " -PCMs commute hx@hz.T==0: Pass\n",
      " -lx \\in ker{hz} AND lz \\in ker{hx}: Pass\n",
      " -lx and lz anticommute: Pass\n",
      " -<Unnamed CSS code> is a valid CSS code w/ params (2,4)-[[13,1,3]]\n"
     ]
    },
    {
     "output_type": "execute_result",
     "data": {
      "text/plain": [
       "True"
      ]
     },
     "metadata": {},
     "execution_count": 70
    }
   ],
   "metadata": {}
  },
  {
   "cell_type": "markdown",
   "source": [
    "## BP+OSD Decoding\n",
    "\n",
    "BP+OSD decoding is useful for codes that do not perform well under standard-BP. To use the BP+OSD decoder, we first call the `bposd.bposd_decoder` class:"
   ],
   "metadata": {}
  },
  {
   "cell_type": "code",
   "execution_count": 81,
   "source": [
    "import numpy as np\n",
    "from bposd import bposd_decoder\n",
    "\n",
    "bpd=bposd_decoder(\n",
    "    surface_code.hz,#the parity check matrix\n",
    "    error_rate=0.05,\n",
    "    max_iter=surface_code.N, #the maximum number of iterations for BP)\n",
    "    bp_method=\"ps\",\n",
    "    osd_method=\"osd_cs\", #the OSD method\n",
    "    osd_order=-1)"
   ],
   "outputs": [],
   "metadata": {}
  },
  {
   "cell_type": "markdown",
   "source": [
    "We can then decode by passing a syndrome to the `bposd.bposd_decoder.decode` method:"
   ],
   "metadata": {}
  },
  {
   "cell_type": "code",
   "execution_count": 87,
   "source": [
    "error=np.zeros(surface_code.N).astype(int)\n",
    "error[[5,12]]=1\n",
    "syndrome=surface_code.hz@error %2\n",
    "bpd.decode(syndrome)\n",
    "\n",
    "print(\"Error\")\n",
    "print(error)\n",
    "print(\"BP+OSD Decoding\")\n",
    "print(bpd.bp_decoding)\n",
    "print(bpd.osd0_decoding)\n",
    "print(bpd.osdw_decoding)\n",
    "residual_error=(bpd.osdw_decoding+error) %2\n",
    "a=(surface_code.lz@residual_error%2).any()\n",
    "if a: a=\"Yes\"\n",
    "else: a=\"No\"\n",
    "print(f\"Logical Error: {a}\\n\")\n"
   ],
   "outputs": [
    {
     "output_type": "stream",
     "name": "stdout",
     "text": [
      "Error\n",
      "[0 0 0 0 0 1 0 0 0 0 0 0 1]\n",
      "BP+OSD Decoding\n",
      "[0 0 0 0 0 0 0 0 1 0 0 0 0]\n",
      "[0 0 0 0 0 0 0 0 1 0 0 0 0]\n",
      "Logical Error: No\n",
      "\n"
     ]
    }
   ],
   "metadata": {}
  },
  {
   "cell_type": "code",
   "execution_count": 84,
   "source": [
    "\n",
    "\n",
    "\n",
    "def random_error(N,error_rate):\n",
    "    error=np.zeros(N).astype(int)\n",
    "\n",
    "    for i in range(N):\n",
    "        if np.random.random()<error_rate: error[i]=1\n",
    "        else: error[i]=0\n",
    "\n",
    "    return error\n",
    "\n",
    "error_rate=0.10\n",
    "\n",
    "bpd=bposd_decoder(\n",
    "    surface_code.hz,#the parity check matrix\n",
    "    error_rate=0.05,\n",
    "    max_iter=3, #the maximum number of iterations for BP)\n",
    "    bp_method=\"ps\",\n",
    "    osd_method=\"osd_e\", #the OSD method\n",
    "    osd_order=7)\n",
    "\n",
    "for i in range(3):\n",
    "    error=random_error(N=surface_code.N,error_rate=error_rate)\n",
    "    syndrome=surface_code.hz@error%2\n",
    "    bpd.decode(syndrome)\n",
    "    print(\"Error\")\n",
    "    print(error)\n",
    "    print(\"BP+OSD Decoding\")\n",
    "    print(bpd.osdw_decoding)\n",
    "    print(bpd.converge)\n",
    "    a=(surface_code.lz@((bpd.osdw_decoding+error) %2)%2).any()\n",
    "    if a: a=\"Yes\"\n",
    "    else: a=\"No\"\n",
    "    print(f\"Logical Error: {a}\\n\")"
   ],
   "outputs": [
    {
     "output_type": "stream",
     "name": "stdout",
     "text": [
      "Error\n",
      "[0 0 0 0 0 0 0 0 0 0 0 0 0]\n",
      "BP+OSD Decoding\n",
      "[0 0 0 0 0 0 0 0 0 0 0 0 0]\n",
      "1\n",
      "Logical Error: No\n",
      "\n",
      "Error\n",
      "[0 0 0 0 0 0 0 0 0 0 0 0 0]\n",
      "BP+OSD Decoding\n",
      "[0 0 0 0 0 0 0 0 0 0 0 0 0]\n",
      "1\n",
      "Logical Error: No\n",
      "\n",
      "Error\n",
      "[0 0 0 0 0 0 0 0 0 0 0 0 0]\n",
      "BP+OSD Decoding\n",
      "[0 0 0 0 0 0 0 0 0 0 0 0 0]\n",
      "1\n",
      "Logical Error: No\n",
      "\n"
     ]
    }
   ],
   "metadata": {}
  },
  {
   "cell_type": "code",
   "execution_count": 27,
   "source": [
    "surface_code.hz"
   ],
   "outputs": [
    {
     "output_type": "execute_result",
     "data": {
      "text/plain": [
       "array([[1, 1, 0, 0, 0, 0, 0, 0, 0, 1, 0, 0, 0],\n",
       "       [0, 1, 1, 0, 0, 0, 0, 0, 0, 0, 1, 0, 0],\n",
       "       [0, 0, 0, 1, 1, 0, 0, 0, 0, 1, 0, 1, 0],\n",
       "       [0, 0, 0, 0, 1, 1, 0, 0, 0, 0, 1, 0, 1],\n",
       "       [0, 0, 0, 0, 0, 0, 1, 1, 0, 0, 0, 1, 0],\n",
       "       [0, 0, 0, 0, 0, 0, 0, 1, 1, 0, 0, 0, 1]])"
      ]
     },
     "metadata": {},
     "execution_count": 27
    }
   ],
   "metadata": {}
  },
  {
   "cell_type": "code",
   "execution_count": null,
   "source": [],
   "outputs": [],
   "metadata": {}
  }
 ],
 "metadata": {
  "kernelspec": {
   "name": "python3",
   "display_name": "Python 3.7.6 64-bit ('base': conda)"
  },
  "language_info": {
   "name": "python",
   "version": "3.7.6",
   "mimetype": "text/x-python",
   "codemirror_mode": {
    "name": "ipython",
    "version": 3
   },
   "pygments_lexer": "ipython3",
   "nbconvert_exporter": "python",
   "file_extension": ".py"
  },
  "interpreter": {
   "hash": "63d7f220ac6afabe4522d20bb97583622f709e1cd06390e42805f8d10b2e7386"
  }
 },
 "nbformat": 4,
 "nbformat_minor": 4
}