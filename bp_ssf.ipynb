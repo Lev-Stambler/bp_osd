{
 "cells": [
  {
   "cell_type": "code",
   "execution_count": 97,
   "metadata": {},
   "outputs": [
    {
     "name": "stdout",
     "output_type": "stream",
     "text": [
      "<Unnamed CSS code>, (4,7)-[[400,16,6]]\n",
      " -Block dimensions: Pass\n",
      " -PCMs commute hz@hx.T==0: Pass\n",
      " -PCMs commute hx@hz.T==0: Pass\n",
      " -lx \\in ker{hz} AND lz \\in ker{hx}: Pass\n",
      " -lx and lz anticommute: Pass\n",
      " -<Unnamed CSS code> is a valid CSS code w/ params (4,7)-[[400,16,6]]\n"
     ]
    },
    {
     "data": {
      "text/plain": [
       "(True,\n",
       " array([[1, 1, 0, 0, 1, 1, 0, 0, 0, 0, 0, 0, 0, 0, 0, 0],\n",
       "        [0, 0, 1, 0, 0, 0, 1, 1, 0, 0, 0, 0, 1, 0, 0, 0],\n",
       "        [0, 0, 0, 1, 1, 0, 1, 0, 0, 0, 0, 0, 0, 1, 0, 0],\n",
       "        [0, 0, 0, 0, 0, 1, 0, 0, 1, 1, 0, 0, 0, 0, 0, 1],\n",
       "        [0, 1, 0, 0, 0, 0, 0, 1, 1, 0, 0, 1, 0, 0, 0, 0],\n",
       "        [0, 0, 0, 0, 0, 0, 0, 0, 1, 0, 0, 0, 1, 1, 1, 0],\n",
       "        [1, 0, 0, 0, 0, 0, 0, 1, 0, 0, 0, 0, 0, 1, 0, 1],\n",
       "        [0, 0, 0, 1, 0, 1, 0, 0, 0, 0, 1, 0, 1, 0, 0, 0],\n",
       "        [0, 0, 1, 1, 0, 0, 0, 0, 0, 0, 0, 1, 0, 0, 0, 1],\n",
       "        [0, 0, 0, 0, 1, 0, 0, 0, 0, 1, 1, 1, 0, 0, 0, 0],\n",
       "        [0, 1, 0, 0, 0, 0, 1, 0, 0, 0, 1, 0, 0, 0, 1, 0],\n",
       "        [1, 0, 1, 0, 0, 0, 0, 0, 0, 1, 0, 0, 0, 0, 1, 0]]))"
      ]
     },
     "execution_count": 97,
     "metadata": {},
     "output_type": "execute_result"
    }
   ],
   "source": [
    "import numpy as np\n",
    "from bposd.hgp import hgp\n",
    "\n",
    "\"\"\"\n",
    "Import our (3,4) code --> map to Joschka --> run BP --> map output to [vv_error, cc_error] --> run ssf with modified score.\n",
    "\"\"\"\n",
    "\n",
    "classical_code='mkmn_16_4_6.txt'\n",
    "seed_code = np.loadtxt(f\"examples/codes/classical_seed_codes/{classical_code}\").astype(int)\n",
    "    # print(seed_code)\n",
    "qcode = hgp(seed_code,compute_distance=True)\n",
    "\n",
    "qcode.test(), seed_code"
   ]
  },
  {
   "cell_type": "code",
   "execution_count": 58,
   "metadata": {},
   "outputs": [],
   "source": [
    "from ldpc import bp_decoder\n",
    "MAX_ITERS = 20\n",
    "ERROR_RATE = 0.05\n",
    "# Use the bp decoder\n",
    "\n",
    "bpd = bp_decoder(qcode.hz,  # the parity check matrix\n",
    "\terror_rate=ERROR_RATE,\n",
    "\tmax_iter=MAX_ITERS,\n",
    "\tbp_method=\"ps\"\n",
    ")\n"
   ]
  },
  {
   "cell_type": "code",
   "execution_count": 85,
   "metadata": {},
   "outputs": [
    {
     "data": {
      "text/plain": [
       "(16, 4, 43)"
      ]
     },
     "execution_count": 85,
     "metadata": {},
     "output_type": "execute_result"
    }
   ],
   "source": [
    "error=np.random.choice(2, qcode.N, p=[1 - ERROR_RATE, ERROR_RATE])\n",
    "syndrome=qcode.hz@error % 2\n",
    "guessed_error = bpd.decode(syndrome)\n",
    "residual_error = (error + guessed_error) % 2\n",
    "sum(guessed_error), sum(qcode.hz@residual_error% 2), sum(syndrome)"
   ]
  },
  {
   "cell_type": "code",
   "execution_count": null,
   "metadata": {},
   "outputs": [],
   "source": [
    "\"\"\"\n",
    "\tHere we assume that the code is generating from an hgp with 1 H1 x H1\n",
    "\"\"\"\n",
    "def get_vv_cc_residual_errors(errors, code):\n",
    "\t# n^2 vv bits and m ** 2 cc bits\n",
    "\tvv_bits = code.n1 ** 2\n",
    "\treturn errors[:vv_bits], error[vv_bits:]\n",
    "get_vv_cc_residual_errors(residual_error, qcode)"
   ]
  },
  {
   "cell_type": "markdown",
   "metadata": {},
   "source": [
    "## Running on our 3,4 codes"
   ]
  },
  {
   "cell_type": "code",
   "execution_count": 109,
   "metadata": {},
   "outputs": [],
   "source": [
    "import sys\n",
    "import os\n",
    "\n",
    "from src.ssf.read_ccode import Classical_code, read_ccode\n",
    "\"\"\"\n",
    "\tConvert sparse code representation to a matrix layout\n",
    "\"\"\"\n",
    "def convert_ccode_to_joschka_ccode(ccode: Classical_code):\n",
    "\tH = np.zeros([ccode.m, ccode.n]).astype(int)\n",
    "\t# c is the checks\n",
    "\tfor c in range(ccode.m):\n",
    "\t\tfor v in ccode.check_nbhd[c]:\n",
    "\t\t\tH[c][v] = 1\n",
    "\treturn H\n",
    "\n",
    "code_3_4 = read_ccode(['examples/codes/ssf_code/80_60.code'], [], [], [], [], [])[0]\n",
    "code_3_4_josh = convert_ccode_to_joschka_ccode(code_3_4)\n",
    "qcode = hgp(code_3_4_josh,compute_distance=True)"
   ]
  }
 ],
 "metadata": {
  "kernelspec": {
   "display_name": "Python 3.9.7 64-bit",
   "language": "python",
   "name": "python3"
  },
  "language_info": {
   "codemirror_mode": {
    "name": "ipython",
    "version": 3
   },
   "file_extension": ".py",
   "mimetype": "text/x-python",
   "name": "python",
   "nbconvert_exporter": "python",
   "pygments_lexer": "ipython3",
   "version": "3.9.7"
  },
  "vscode": {
   "interpreter": {
    "hash": "916dbcbb3f70747c44a77c7bcd40155683ae19c65e1c03b4aa3499c5328201f1"
   }
  }
 },
 "nbformat": 4,
 "nbformat_minor": 4
}
